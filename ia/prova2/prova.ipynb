{
 "cells": [
  {
   "cell_type": "markdown",
   "id": "da3c08ce-bf5b-4066-92d9-3d53326a6713",
   "metadata": {},
   "source": [
    "Importando todas as bibliotecas necessárias"
   ]
  },
  {
   "cell_type": "code",
   "execution_count": 76,
   "id": "0d9b6a97-4c19-46e6-a328-cff517fd47e2",
   "metadata": {},
   "outputs": [],
   "source": [
    "import pandas as pd\n",
    "import numpy as np\n",
    "import statistics as st\n",
    "import matplotlib.pyplot as plt\n",
    "from sklearn import preprocessing\n",
    "from sklearn.preprocessing import RobustScaler\n",
    "from sklearn.decomposition import PCA\n",
    "from sklearn.model_selection import StratifiedKFold\n",
    "from sklearn import tree\n",
    "import seaborn as sns\n",
    "from sklearn import metrics\n",
    "from sklearn.metrics import confusion_matrix, log_loss\n",
    "from sklearn.ensemble import RandomForestClassifier\n",
    "import itertools\n",
    "from sklearn.model_selection import cross_val_score, cross_validate"
   ]
  },
  {
   "cell_type": "markdown",
   "id": "26f83ea1-0c04-46da-b9ee-3c866d44d3cd",
   "metadata": {},
   "source": [
    "# Questão 1"
   ]
  },
  {
   "cell_type": "markdown",
   "id": "946c518a-24a1-44e0-a3c9-da062536c6b3",
   "metadata": {},
   "source": [
    "Primeiramente, as colunas `CustomerId`, `RowNumber` e `Surname` foram eliminadas, pois pouco dizem a respeito dos clientes e sua relação com o *shopping*."
   ]
  },
  {
   "cell_type": "code",
   "execution_count": 77,
   "id": "48e49e0d-2674-4347-9e06-35e6dd521860",
   "metadata": {},
   "outputs": [],
   "source": [
    "df = pd.read_csv('dataset/Churn_Modelling.csv', delimiter=',')\n",
    "df = df.drop('CustomerId', axis=1)\n",
    "df = df.drop('RowNumber', axis=1)\n",
    "df = df.drop('Surname', axis=1)\n",
    "\n",
    "df['Gender'] = preprocessing.LabelEncoder().fit_transform(df['Gender'])"
   ]
  },
  {
   "cell_type": "markdown",
   "id": "f37126da-db1a-4409-8476-705b7af39964",
   "metadata": {},
   "source": [
    "Em seguida, uma breve análise exploratória os dados foi realizada. O primeiro gráfico ilustra a distribuição dos valores das colunas `EstimatedSalary` e `Balance` (da esquerda para a direita). É possível notar que ambos os casos apresentam uma grande variância, o que significa que o espectro de poder aquisitivo dos clientes é amplo. No segundo gráfico, percebe-se que há uma enorme quantidade de *outliers* no que diz respeito à idade dos clientes. A maioria dos clientes se situa na França, enquanto o resto é distribuído de maneira equânime entre Espanha e Alemanha, conforme ilustra o penúltimo gráfico. Por fim, observando-se o último gráfico, nota-se que a vasta maioria dos clientes optou por continuar no banco."
   ]
  },
  {
   "cell_type": "code",
   "execution_count": 79,
   "id": "a6884a1d-5a8e-4f8a-894b-8d2d403d0564",
   "metadata": {},
   "outputs": [
    {
     "name": "stdout",
     "output_type": "stream",
     "text": [
      "      CreditScore Geography  Gender  Age  Tenure    Balance  NumOfProducts  \\\n",
      "0             619    France       0   42       2       0.00              1   \n",
      "1             608     Spain       0   41       1   83807.86              1   \n",
      "2             502    France       0   42       8  159660.80              3   \n",
      "3             699    France       0   39       1       0.00              2   \n",
      "4             850     Spain       0   43       2  125510.82              1   \n",
      "...           ...       ...     ...  ...     ...        ...            ...   \n",
      "9995          771    France       1   39       5       0.00              2   \n",
      "9996          516    France       1   35      10   57369.61              1   \n",
      "9997          709    France       0   36       7       0.00              1   \n",
      "9998          772   Germany       1   42       3   75075.31              2   \n",
      "9999          792    France       0   28       4  130142.79              1   \n",
      "\n",
      "      HasCrCard  IsActiveMember  EstimatedSalary  Exited  \n",
      "0             1               1        101348.88       1  \n",
      "1             0               1        112542.58       0  \n",
      "2             1               0        113931.57       1  \n",
      "3             0               0         93826.63       0  \n",
      "4             1               1         79084.10       0  \n",
      "...         ...             ...              ...     ...  \n",
      "9995          1               0         96270.64       0  \n",
      "9996          1               1        101699.77       0  \n",
      "9997          0               1         42085.58       1  \n",
      "9998          1               0         92888.52       1  \n",
      "9999          1               0         38190.78       0  \n",
      "\n",
      "[10000 rows x 11 columns]\n",
      "Salário estimado e Saldo Bancário\n"
     ]
    },
    {
     "data": {
      "image/png": "[encoded data removed]",
      "text/plain": [
       "<Figure size 432x288 with 1 Axes>"
      ]
     },
     "metadata": {
      "needs_background": "light"
     },
     "output_type": "display_data"
    },
    {
     "name": "stdout",
     "output_type": "stream",
     "text": [
      "Idade\n"
     ]
    },
    {
     "data": {
      "image/png": "[encoded data removed]",
      "text/plain": [
       "<Figure size 432x288 with 1 Axes>"
      ]
     },
     "metadata": {
      "needs_background": "light"
     },
     "output_type": "display_data"
    },
    {
     "name": "stdout",
     "output_type": "stream",
     "text": [
      "Pontuação de crédito\n"
     ]
    },
    {
     "data": {
      "image/png": "[encoded data removed]",
      "text/plain": [
       "<Figure size 432x288 with 1 Axes>"
      ]
     },
     "metadata": {
      "needs_background": "light"
     },
     "output_type": "display_data"
    },
    {
     "name": "stdout",
     "output_type": "stream",
     "text": [
      "País\n"
     ]
    },
    {
     "data": {
      "image/png": "[encoded data removed]",
      "text/plain": [
       "<Figure size 432x288 with 1 Axes>"
      ]
     },
     "metadata": {
      "needs_background": "light"
     },
     "output_type": "display_data"
    },
    {
     "name": "stdout",
     "output_type": "stream",
     "text": [
      "Saiu\n"
     ]
    },
    {
     "data": {
      "image/png": "[encoded data removed]",
      "text/plain": [
       "<Figure size 432x288 with 1 Axes>"
      ]
     },
     "metadata": {
      "needs_background": "light"
     },
     "output_type": "display_data"
    }
   ],
   "source": [
    "\n",
    "print(df)\n",
    "\n",
    "fig = plt.figure()\n",
    "print(\"Salário estimado e Saldo Bancário\")\n",
    "plt.boxplot([df['EstimatedSalary'].values, df['Balance'].values])\n",
    "plt.show()\n",
    "fig = plt.figure()\n",
    "\n",
    "print(\"Idade\")\n",
    "plt.boxplot([df['Age'].values])\n",
    "plt.show()\n",
    "fig = plt.figure()\n",
    "\n",
    "print(\"Pontuação de crédito\")\n",
    "plt.boxplot([df['CreditScore'].values])\n",
    "plt.show()\n",
    "\n",
    "fig = plt.figure()\n",
    "print(\"País\")\n",
    "plt.hist(df['Geography'].values)\n",
    "plt.show()\n",
    "\n",
    "\n",
    "fig = plt.figure()\n",
    "print(\"Saiu\")\n",
    "plt.hist(df['Exited'].values)\n",
    "plt.show()"
   ]
  },
  {
   "cell_type": "markdown",
   "id": "19b89d07-e87c-4aa5-b6f2-aa2c82774102",
   "metadata": {},
   "source": [
    "Uma nova variável foi criada com base no salário dos clientes. Isso foi feito de forma a dividí-los em diferentes grupos. Para isso, criou-se uma nova coluna `SalaryGroup`, que divide os clientes em 5 faixas salariais, que variam de 0 a 4."
   ]
  },
  {
   "cell_type": "code",
   "execution_count": 80,
   "id": "d39b6a3a-fedc-4b46-b68a-bfd4d5e84406",
   "metadata": {},
   "outputs": [
    {
     "name": "stdout",
     "output_type": "stream",
     "text": [
      "0       2\n",
      "1       2\n",
      "2       2\n",
      "3       2\n",
      "4       1\n",
      "       ..\n",
      "9995    2\n",
      "9996    2\n",
      "9997    1\n",
      "9998    2\n",
      "9999    0\n",
      "Name: SalaryGroup, Length: 10000, dtype: int64\n"
     ]
    }
   ],
   "source": [
    "for col in [pd.get_dummies(df['Geography'])]:\n",
    "    df = df.join(col)\n",
    "df = df.drop('Geography', axis=1)\n",
    "\n",
    "df['SalaryGroup'] = pd.DataFrame(pd.cut(df['EstimatedSalary'], bins=5, labels=np.arange(5), right=False))\n",
    "\n",
    "print(df['SalaryGroup'])"
   ]
  },
  {
   "cell_type": "markdown",
   "id": "7375db4d-8e34-4b38-91be-e15c4adb1bd3",
   "metadata": {
    "jp-MarkdownHeadingCollapsed": true,
    "tags": []
   },
   "source": [
    "Para a classificação, realizou-se uma comparação entre árvore de decisão e *random forest*. Isso foi feito utilizando-se o método `StratifiedKFold` para particionar a base de dados em conjuntos de treinamento e teste. Os testes foram feitos utilizando-se várias combinações diferentes de dois hiperparâmetros de cada modelo: `max_depth` e `n_estimators` para o *random forest*, e `max_depth` e `min_samples_split` para árvore de decisão. A medida utilizada para aferir os resultados foi a `log_loss`, muito usada para problemas de classificação. A medida penaliza drasticamente diferenças entre o valor real do alvo e o valor previsto pelo modelo de classificação."
   ]
  },
  {
   "cell_type": "code",
   "execution_count": 83,
   "id": "6b2fa2d6-348b-4799-9ff9-7b3dee209783",
   "metadata": {},
   "outputs": [
    {
     "name": "stdout",
     "output_type": "stream",
     "text": [
      "Random Forest\n",
      "max_depth = 2 , n_estimators = 2 , log_loss médio: 6.807593387155097\n",
      "max_depth = 2 , n_estimators = 12 , log_loss médio: 6.78686956159995\n",
      "max_depth = 2 , n_estimators = 22 , log_loss médio: 6.627991270143103\n",
      "max_depth = 2 , n_estimators = 32 , log_loss médio: 6.5761831055507365\n",
      "max_depth = 12 , n_estimators = 2 , log_loss médio: 6.351728954869887\n",
      "max_depth = 12 , n_estimators = 12 , log_loss médio: 4.897621441244581\n",
      "max_depth = 12 , n_estimators = 22 , log_loss médio: 4.8458123171353\n",
      "max_depth = 12 , n_estimators = 32 , log_loss médio: 4.780187522548567\n",
      "max_depth = 22 , n_estimators = 2 , log_loss médio: 6.0304943464743115\n",
      "max_depth = 22 , n_estimators = 12 , log_loss médio: 5.139395754559705\n",
      "max_depth = 22 , n_estimators = 22 , log_loss médio: 4.997786851300314\n",
      "max_depth = 22 , n_estimators = 32 , log_loss médio: 4.9874252183818415\n",
      "max_depth = 32 , n_estimators = 2 , log_loss médio: 6.058128006261761\n",
      "max_depth = 32 , n_estimators = 12 , log_loss médio: 5.132487359602779\n",
      "max_depth = 32 , n_estimators = 22 , log_loss médio: 4.98742385906621\n",
      "max_depth = 32 , n_estimators = 32 , log_loss médio: 4.963246955469001\n",
      "max_depth = 42 , n_estimators = 2 , log_loss médio: 6.058128006261761\n",
      "max_depth = 42 , n_estimators = 12 , log_loss médio: 5.132487359602779\n",
      "max_depth = 42 , n_estimators = 22 , log_loss médio: 4.98742385906621\n",
      "max_depth = 42 , n_estimators = 32 , log_loss médio: 4.963246955469001\n",
      "max_depth = 52 , n_estimators = 2 , log_loss médio: 6.058128006261761\n",
      "max_depth = 52 , n_estimators = 12 , log_loss médio: 5.132487359602779\n",
      "max_depth = 52 , n_estimators = 22 , log_loss médio: 4.98742385906621\n",
      "max_depth = 52 , n_estimators = 32 , log_loss médio: 4.963246955469001\n",
      "max_depth = 62 , n_estimators = 2 , log_loss médio: 6.058128006261761\n",
      "max_depth = 62 , n_estimators = 12 , log_loss médio: 5.132487359602779\n",
      "max_depth = 62 , n_estimators = 22 , log_loss médio: 4.98742385906621\n",
      "max_depth = 62 , n_estimators = 32 , log_loss médio: 4.963246955469001\n",
      "max_depth = 72 , n_estimators = 2 , log_loss médio: 6.058128006261761\n",
      "max_depth = 72 , n_estimators = 12 , log_loss médio: 5.132487359602779\n",
      "max_depth = 72 , n_estimators = 22 , log_loss médio: 4.98742385906621\n",
      "max_depth = 72 , n_estimators = 32 , log_loss médio: 4.963246955469001\n",
      "max_depth = 82 , n_estimators = 2 , log_loss médio: 6.058128006261761\n",
      "max_depth = 82 , n_estimators = 12 , log_loss médio: 5.132487359602779\n",
      "max_depth = 82 , n_estimators = 22 , log_loss médio: 4.98742385906621\n",
      "max_depth = 82 , n_estimators = 32 , log_loss médio: 4.963246955469001\n",
      "max_depth = 92 , n_estimators = 2 , log_loss médio: 6.058128006261761\n",
      "max_depth = 92 , n_estimators = 12 , log_loss médio: 5.132487359602779\n",
      "max_depth = 92 , n_estimators = 22 , log_loss médio: 4.98742385906621\n",
      "max_depth = 92 , n_estimators = 32 , log_loss médio: 4.963246955469001\n",
      "Melhor log_loss: 4.780187522548567  Melhor max_depth: 12  Melhor n_estimators: 32\n",
      "4.780187522548567 12 32\n",
      "[[776  21]\n",
      " [105  98]]\n",
      "Decision Tree\n",
      "max_depth = 2 , min_samples_split = 0.1 , log_loss médio: 5.875090002552454\n",
      "max_depth = 2 , min_samples_split = 0.2 , log_loss médio: 5.875090002552454\n",
      "max_depth = 2 , min_samples_split = 0.3 , log_loss médio: 6.741972430636029\n",
      "max_depth = 2 , min_samples_split = 0.4 , log_loss médio: 6.741972430636029\n",
      "max_depth = 2 , min_samples_split = 0.5 , log_loss médio: 6.741972430636029\n",
      "max_depth = 2 , min_samples_split = 0.6 , log_loss médio: 6.741972430636029\n",
      "max_depth = 2 , min_samples_split = 0.7 , log_loss médio: 6.741972430636029\n",
      "max_depth = 2 , min_samples_split = 0.8 , log_loss médio: 7.035548751643306\n",
      "max_depth = 2 , min_samples_split = 0.9 , log_loss médio: 7.035548751643306\n",
      "max_depth = 2 , min_samples_split = 1.0 , log_loss médio: 7.035548751643306\n",
      "max_depth = 10 , min_samples_split = 0.1 , log_loss médio: 5.488222363716615\n",
      "max_depth = 10 , min_samples_split = 0.2 , log_loss médio: 5.875090002552454\n",
      "max_depth = 10 , min_samples_split = 0.3 , log_loss médio: 6.741972430636029\n",
      "max_depth = 10 , min_samples_split = 0.4 , log_loss médio: 6.741972430636029\n",
      "max_depth = 10 , min_samples_split = 0.5 , log_loss médio: 6.741972430636029\n",
      "max_depth = 10 , min_samples_split = 0.6 , log_loss médio: 6.741972430636029\n",
      "max_depth = 10 , min_samples_split = 0.7 , log_loss médio: 6.741972430636029\n",
      "max_depth = 10 , min_samples_split = 0.8 , log_loss médio: 7.035548751643306\n",
      "max_depth = 10 , min_samples_split = 0.9 , log_loss médio: 7.035548751643306\n",
      "max_depth = 10 , min_samples_split = 1.0 , log_loss médio: 7.035548751643306\n",
      "max_depth = 18 , min_samples_split = 0.1 , log_loss médio: 5.488222363716615\n",
      "max_depth = 18 , min_samples_split = 0.2 , log_loss médio: 5.875090002552454\n",
      "max_depth = 18 , min_samples_split = 0.3 , log_loss médio: 6.741972430636029\n",
      "max_depth = 18 , min_samples_split = 0.4 , log_loss médio: 6.741972430636029\n",
      "max_depth = 18 , min_samples_split = 0.5 , log_loss médio: 6.741972430636029\n",
      "max_depth = 18 , min_samples_split = 0.6 , log_loss médio: 6.741972430636029\n",
      "max_depth = 18 , min_samples_split = 0.7 , log_loss médio: 6.741972430636029\n",
      "max_depth = 18 , min_samples_split = 0.8 , log_loss médio: 7.035548751643306\n",
      "max_depth = 18 , min_samples_split = 0.9 , log_loss médio: 7.035548751643306\n",
      "max_depth = 18 , min_samples_split = 1.0 , log_loss médio: 7.035548751643306\n",
      "max_depth = 26 , min_samples_split = 0.1 , log_loss médio: 5.488222363716615\n",
      "max_depth = 26 , min_samples_split = 0.2 , log_loss médio: 5.875090002552454\n",
      "max_depth = 26 , min_samples_split = 0.3 , log_loss médio: 6.741972430636029\n",
      "max_depth = 26 , min_samples_split = 0.4 , log_loss médio: 6.741972430636029\n",
      "max_depth = 26 , min_samples_split = 0.5 , log_loss médio: 6.741972430636029\n",
      "max_depth = 26 , min_samples_split = 0.6 , log_loss médio: 6.741972430636029\n",
      "max_depth = 26 , min_samples_split = 0.7 , log_loss médio: 6.741972430636029\n",
      "max_depth = 26 , min_samples_split = 0.8 , log_loss médio: 7.035548751643306\n",
      "max_depth = 26 , min_samples_split = 0.9 , log_loss médio: 7.035548751643306\n",
      "max_depth = 26 , min_samples_split = 1.0 , log_loss médio: 7.035548751643306\n",
      "max_depth = 34 , min_samples_split = 0.1 , log_loss médio: 5.488222363716615\n",
      "max_depth = 34 , min_samples_split = 0.2 , log_loss médio: 5.875090002552454\n",
      "max_depth = 34 , min_samples_split = 0.3 , log_loss médio: 6.741972430636029\n",
      "max_depth = 34 , min_samples_split = 0.4 , log_loss médio: 6.741972430636029\n",
      "max_depth = 34 , min_samples_split = 0.5 , log_loss médio: 6.741972430636029\n",
      "max_depth = 34 , min_samples_split = 0.6 , log_loss médio: 6.741972430636029\n",
      "max_depth = 34 , min_samples_split = 0.7 , log_loss médio: 6.741972430636029\n",
      "max_depth = 34 , min_samples_split = 0.8 , log_loss médio: 7.035548751643306\n",
      "max_depth = 34 , min_samples_split = 0.9 , log_loss médio: 7.035548751643306\n",
      "max_depth = 34 , min_samples_split = 1.0 , log_loss médio: 7.035548751643306\n",
      "max_depth = 42 , min_samples_split = 0.1 , log_loss médio: 5.488222363716615\n",
      "max_depth = 42 , min_samples_split = 0.2 , log_loss médio: 5.875090002552454\n",
      "max_depth = 42 , min_samples_split = 0.3 , log_loss médio: 6.741972430636029\n",
      "max_depth = 42 , min_samples_split = 0.4 , log_loss médio: 6.741972430636029\n",
      "max_depth = 42 , min_samples_split = 0.5 , log_loss médio: 6.741972430636029\n",
      "max_depth = 42 , min_samples_split = 0.6 , log_loss médio: 6.741972430636029\n",
      "max_depth = 42 , min_samples_split = 0.7 , log_loss médio: 6.741972430636029\n",
      "max_depth = 42 , min_samples_split = 0.8 , log_loss médio: 7.035548751643306\n",
      "max_depth = 42 , min_samples_split = 0.9 , log_loss médio: 7.035548751643306\n",
      "max_depth = 42 , min_samples_split = 1.0 , log_loss médio: 7.035548751643306\n",
      "max_depth = 50 , min_samples_split = 0.1 , log_loss médio: 5.488222363716615\n",
      "max_depth = 50 , min_samples_split = 0.2 , log_loss médio: 5.875090002552454\n",
      "max_depth = 50 , min_samples_split = 0.3 , log_loss médio: 6.741972430636029\n",
      "max_depth = 50 , min_samples_split = 0.4 , log_loss médio: 6.741972430636029\n",
      "max_depth = 50 , min_samples_split = 0.5 , log_loss médio: 6.741972430636029\n",
      "max_depth = 50 , min_samples_split = 0.6 , log_loss médio: 6.741972430636029\n",
      "max_depth = 50 , min_samples_split = 0.7 , log_loss médio: 6.741972430636029\n",
      "max_depth = 50 , min_samples_split = 0.8 , log_loss médio: 7.035548751643306\n",
      "max_depth = 50 , min_samples_split = 0.9 , log_loss médio: 7.035548751643306\n",
      "max_depth = 50 , min_samples_split = 1.0 , log_loss médio: 7.035548751643306\n",
      "max_depth = 58 , min_samples_split = 0.1 , log_loss médio: 5.488222363716615\n",
      "max_depth = 58 , min_samples_split = 0.2 , log_loss médio: 5.875090002552454\n",
      "max_depth = 58 , min_samples_split = 0.3 , log_loss médio: 6.741972430636029\n",
      "max_depth = 58 , min_samples_split = 0.4 , log_loss médio: 6.741972430636029\n",
      "max_depth = 58 , min_samples_split = 0.5 , log_loss médio: 6.741972430636029\n",
      "max_depth = 58 , min_samples_split = 0.6 , log_loss médio: 6.741972430636029\n",
      "max_depth = 58 , min_samples_split = 0.7 , log_loss médio: 6.741972430636029\n",
      "max_depth = 58 , min_samples_split = 0.8 , log_loss médio: 7.035548751643306\n",
      "max_depth = 58 , min_samples_split = 0.9 , log_loss médio: 7.035548751643306\n",
      "max_depth = 58 , min_samples_split = 1.0 , log_loss médio: 7.035548751643306\n",
      "max_depth = 66 , min_samples_split = 0.1 , log_loss médio: 5.488222363716615\n",
      "max_depth = 66 , min_samples_split = 0.2 , log_loss médio: 5.875090002552454\n",
      "max_depth = 66 , min_samples_split = 0.3 , log_loss médio: 6.741972430636029\n",
      "max_depth = 66 , min_samples_split = 0.4 , log_loss médio: 6.741972430636029\n",
      "max_depth = 66 , min_samples_split = 0.5 , log_loss médio: 6.741972430636029\n",
      "max_depth = 66 , min_samples_split = 0.6 , log_loss médio: 6.741972430636029\n",
      "max_depth = 66 , min_samples_split = 0.7 , log_loss médio: 6.741972430636029\n",
      "max_depth = 66 , min_samples_split = 0.8 , log_loss médio: 7.035548751643306\n",
      "max_depth = 66 , min_samples_split = 0.9 , log_loss médio: 7.035548751643306\n",
      "max_depth = 66 , min_samples_split = 1.0 , log_loss médio: 7.035548751643306\n",
      "max_depth = 74 , min_samples_split = 0.1 , log_loss médio: 5.488222363716615\n",
      "max_depth = 74 , min_samples_split = 0.2 , log_loss médio: 5.875090002552454\n",
      "max_depth = 74 , min_samples_split = 0.3 , log_loss médio: 6.741972430636029\n",
      "max_depth = 74 , min_samples_split = 0.4 , log_loss médio: 6.741972430636029\n",
      "max_depth = 74 , min_samples_split = 0.5 , log_loss médio: 6.741972430636029\n",
      "max_depth = 74 , min_samples_split = 0.6 , log_loss médio: 6.741972430636029\n",
      "max_depth = 74 , min_samples_split = 0.7 , log_loss médio: 6.741972430636029\n",
      "max_depth = 74 , min_samples_split = 0.8 , log_loss médio: 7.035548751643306\n",
      "max_depth = 74 , min_samples_split = 0.9 , log_loss médio: 7.035548751643306\n",
      "max_depth = 74 , min_samples_split = 1.0 , log_loss médio: 7.035548751643306\n",
      "Melhor log_loss: 5.488222363716615  Melhor max_depth: 10  Melhor min_samples_split: 0.1\n",
      "[[786  11]\n",
      " [143  60]]\n"
     ]
    }
   ],
   "source": [
    "X = df.drop('Exited', axis=1).values\n",
    "y = df['Exited'].values\n",
    "\n",
    "skf = StratifiedKFold(n_splits=10, random_state=1, shuffle=True)\n",
    "\n",
    "best_loss = 10e12\n",
    "best_md, best_ne = 0, 0\n",
    "best_matrix = 0\n",
    "print(\"Random Forest\")\n",
    "\n",
    "for md, ne in itertools.product(range(2,2 + 10 * 10,10), range(2,40, 10)):\n",
    "    avg_log_loss = 0\n",
    "    for train_index, test_index in skf.split(X,y):\n",
    "        X_train, X_test = X[train_index], X[test_index]\n",
    "        y_train, y_test = y[train_index], y[test_index]\n",
    "        clf2 = RandomForestClassifier(max_depth=md, n_estimators=ne, random_state=1)\n",
    "        clf2.fit(X_train,y_train)\n",
    "        result2 = clf2.predict(X_test)\n",
    "        \n",
    "        avg_log_loss += metrics.log_loss(y_test, result2) / 10.0\n",
    "    if avg_log_loss < best_loss:\n",
    "        best_loss, best_md, best_ne = avg_log_loss, md, ne\n",
    "        best_matrix = confusion_matrix(y_test, result2)\n",
    "\n",
    "    print(\"max_depth =\", md, \", n_estimators =\", ne, \", log_loss médio:\", avg_log_loss)\n",
    "        \n",
    "print(\"Melhor log_loss:\", best_loss, \" Melhor max_depth:\", best_md, \" Melhor n_estimators:\", best_ne)\n",
    "print(best_loss, best_md, best_ne)\n",
    "print(best_matrix)\n",
    "\n",
    "best_loss = 10e12\n",
    "best_md, best_ne = 0, 0\n",
    "best_matrix = 0\n",
    "print(\"Decision Tree\")\n",
    "\n",
    "for md, ne in itertools.product(range(2,2 + 10 * 8,8), range(1,11)):\n",
    "    avg_log_loss = 0\n",
    "    for train_index, test_index in skf.split(X,y):\n",
    "        X_train, X_test = X[train_index], X[test_index]\n",
    "        y_train, y_test = y[train_index], y[test_index]\n",
    "        clf1 = tree.DecisionTreeClassifier(max_depth=md, min_samples_split=ne / 10.0  , random_state=1)\n",
    "        clf1.fit(X_train, y_train)\n",
    "        result1 = clf1.predict(X_test)\n",
    "        \n",
    "        avg_log_loss += metrics.log_loss(y_test, result1) / 10.0\n",
    "    if avg_log_loss < best_loss:\n",
    "        best_loss, best_md, best_ne = avg_log_loss, md, ne\n",
    "        best_matrix = confusion_matrix(y_test, result1)\n",
    "\n",
    "    print(\"max_depth =\", md, \", min_samples_split =\", ne / 10.0, \", log_loss médio:\", avg_log_loss)\n",
    "        \n",
    "print(\"Melhor log_loss:\", best_loss, \" Melhor max_depth:\", best_md, \" Melhor min_samples_split:\", best_ne / 10.0)\n",
    "print(best_matrix)"
   ]
  },
  {
   "cell_type": "markdown",
   "id": "c82a2aee-76c5-4d44-9ccd-6e4810077e3c",
   "metadata": {},
   "source": [
    "Para ambos os modelos, preservou-se os hiperparâmetros que resultaram no menor valor médio de `log_loss`. Em ambos os casos, tanto o valor de `log_loss` quanto a matriz de confusão demonstraram que o método é, de certa forma, eficaz. No entanto, é possível notar uma grande proporção de falsos negativos (i.e., clientes que não deixaram o banco, mas foram classificados como tal). Isso provavelmente se deve ao fato de que o método `StratifiedKFold` mantém as proporções da base de dados original, na qual o número de clientes que não deixaram o banco é muito maior. Por isso, ambos os modelos acabaram se aperfeiçoando apenas em detectar negativos. Dito isso, o `undersampling` pode ser uma possível solução para o problema.\n",
    "\n",
    "Note que, no caso do *random forest*, os melhores resultados foram obtidos com uma profundidade máxima relativamente baixa. Porém, foi necessário um valor alto de `n_estimators`, algo que sacrifica a interpretabilidade do modelo, bem como o tempo computacional necessário para realizar o treinamento. De forma similar ao caso anterior, o aumento da profundidade máxima não proveu ganhos para a árvore e decisão, que alcançaram um melhor resultado com `min_sample_split = 10%` do número de observações. Em suma, dar mais liberdade ao modelo para gerar nós na árvore binária foi mais vantajoso."
   ]
  },
  {
   "cell_type": "markdown",
   "id": "01d3b0a1-abe1-46d8-822b-09fba293ee59",
   "metadata": {},
   "source": [
    "# Questão 3"
   ]
  },
  {
   "cell_type": "markdown",
   "id": "3b53bb33-2167-4df3-972d-84d9582a64b3",
   "metadata": {},
   "source": [
    "Primeiramente, os dados tiveram que ser normalizados. Além disso, a coluna `CustomerID` foi removida."
   ]
  },
  {
   "cell_type": "code",
   "execution_count": 89,
   "id": "eb23ed41-3c3a-4a8a-8cbc-8966d3861a8e",
   "metadata": {},
   "outputs": [
    {
     "name": "stdout",
     "output_type": "stream",
     "text": [
      "       0         1         2         3\n",
      "0    1.0  0.019231  0.000000  0.387755\n",
      "1    1.0  0.057692  0.000000  0.816327\n",
      "2    0.0  0.038462  0.008197  0.051020\n",
      "3    0.0  0.096154  0.008197  0.775510\n",
      "4    0.0  0.250000  0.016393  0.397959\n",
      "..   ...       ...       ...       ...\n",
      "195  0.0  0.326923  0.860656  0.795918\n",
      "196  0.0  0.519231  0.909836  0.275510\n",
      "197  1.0  0.269231  0.909836  0.744898\n",
      "198  1.0  0.269231  1.000000  0.173469\n",
      "199  1.0  0.230769  1.000000  0.836735\n",
      "\n",
      "[200 rows x 4 columns]\n"
     ]
    }
   ],
   "source": [
    "from scipy.cluster.hierarchy import dendrogram, linkage\n",
    "from sklearn.cluster import KMeans\n",
    "from sklearn.cluster import AgglomerativeClustering\n",
    "from sklearn.metrics import pairwise_distances\n",
    "\n",
    "df = pd.read_csv('dataset/Mall_Customers.csv', delimiter=',')\n",
    "\n",
    "df = df.drop('CustomerID', axis=1)\n",
    "df['Genre'] = preprocessing.LabelEncoder().fit_transform(df['Genre'])\n",
    "\n",
    "df = pd.DataFrame(preprocessing.MinMaxScaler().fit_transform(df.values))\n",
    "print(df)"
   ]
  },
  {
   "cell_type": "markdown",
   "id": "adcb6bb2-a108-4a5d-8cca-235c4d1f93e4",
   "metadata": {},
   "source": [
    "Dois algoritmos de clusterizaçãod distintos foram utilizados: K-means e Hierárquico. Para o útlimo, utilizou-se linkagens simples e completa. Os modelos, que foram testados com três valores distintos para `k`, tiveram sua eficácia aferida por meio da medida de silhueta, que indica, de forma resumida, o quanto um indivíduo de fato se encaixa no seu *cluster*."
   ]
  },
  {
   "cell_type": "code",
   "execution_count": 100,
   "id": "e54e6f49-d91f-4468-890a-8411671fefd8",
   "metadata": {},
   "outputs": [
    {
     "name": "stdout",
     "output_type": "stream",
     "text": [
      "#######################################\n",
      "Número de clusters: 5\n",
      "\n",
      "Tipo: hierárquico\n",
      "Linkagem: single\n",
      "Silhouette score:  0.1589396978918364\n",
      "\n",
      "Tipo: hierárquico\n",
      "Linkagem: complete\n",
      "Silhouette score:  0.30316439293019537\n",
      "\n",
      "Tipo: k-means\n",
      "Silhouette score:  0.3696634492724439\n",
      "#######################################\n",
      "#######################################\n",
      "Número de clusters: 15\n",
      "\n",
      "Tipo: hierárquico\n",
      "Linkagem: single\n",
      "Silhouette score:  0.043446369213284416\n",
      "\n",
      "Tipo: hierárquico\n",
      "Linkagem: complete\n",
      "Silhouette score:  0.4181727381589176\n",
      "\n",
      "Tipo: k-means\n",
      "Silhouette score:  0.4339512967690127\n",
      "#######################################\n",
      "#######################################\n",
      "Número de clusters: 25\n",
      "\n",
      "Tipo: hierárquico\n",
      "Linkagem: single\n",
      "Silhouette score:  0.0957339859760526\n",
      "\n",
      "Tipo: hierárquico\n",
      "Linkagem: complete\n",
      "Silhouette score:  0.3970319495029798\n",
      "\n",
      "Tipo: k-means\n",
      "Silhouette score:  0.37780307583437034\n",
      "#######################################\n"
     ]
    }
   ],
   "source": [
    "for n in [5, 15, 25]:\n",
    "    print(\"#######################################\")\n",
    "    print(\"Número de clusters:\", n)\n",
    "    print()\n",
    "    for link in ['single','complete']:\n",
    "        linked = AgglomerativeClustering(n_clusters=n, linkage=link).fit(df.values)\n",
    "        print(\"Tipo: hierárquico\")\n",
    "        print(\"Linkagem:\", link)\n",
    "        print(\"Silhouette score: \", metrics.silhouette_score(df.values, linked.labels_, metric='euclidean'))\n",
    "        print()\n",
    "\n",
    "    kmeans = KMeans(n_clusters=n, random_state=0).fit(df.values)\n",
    "    print(\"Tipo: k-means\")\n",
    "    print(\"Silhouette score: \", metrics.silhouette_score(df.values, kmeans.labels_, metric='euclidean'))\n",
    "    print(\"#######################################\")"
   ]
  },
  {
   "cell_type": "markdown",
   "id": "6113a382-0945-474c-8171-7fee2609c356",
   "metadata": {},
   "source": [
    "No caso do algoritmo k-means, o melhor resultado foi obtido com `k=5`. A medida de silhueta piora quando `k` decresce ou aumenta, o que indica que o número ideal de *clusters* se encontra próximo de 15. No caso do hierárquico, a linkagem simples apresenta sempre uma medida de silhueta menor. Esse fenômeno é acentuado a medida que o valor de `k` aumenta. Isso provavelmente se deve ao fato de que o comportamento aglomerativo e, de certa forma, \"guloso\" do modelo hierárquico é pior no caso da linkagem simples."
   ]
  }
 ],
 "metadata": {
  "kernelspec": {
   "display_name": "Python 3 (ipykernel)",
   "language": "python",
   "name": "python3"
  },
  "language_info": {
   "codemirror_mode": {
    "name": "ipython",
    "version": 3
   },
   "file_extension": ".py",
   "mimetype": "text/x-python",
   "name": "python",
   "nbconvert_exporter": "python",
   "pygments_lexer": "ipython3",
   "version": "3.8.10"
  }
 },
 "nbformat": 4,
 "nbformat_minor": 5
}
